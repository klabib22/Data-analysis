{
 "cells": [
  {
   "cell_type": "code",
   "execution_count": 1,
   "id": "bddf6e8a-c2fe-4856-94ca-70033adc9ff9",
   "metadata": {},
   "outputs": [],
   "source": [
    "import numpy as np\n",
    "import sklearn\n",
    "import pandas as pd"
   ]
  },
  {
   "cell_type": "code",
   "execution_count": 2,
   "id": "dec3d920-0fda-4c23-b264-1d80514a4d34",
   "metadata": {},
   "outputs": [
    {
     "name": "stdout",
     "output_type": "stream",
     "text": [
      "   species_id             genus          species                   taxa\n",
      "0          AB        Amphispiza        bilineata                   Bird\n",
      "1          AH  Ammospermophilus          harrisi    Rodent-not censused\n",
      "2          AS        Ammodramus       savannarum                   Bird\n",
      "3          BA           Baiomys          taylori                 Rodent\n",
      "4          CB   Campylorhynchus  brunneicapillus                   Bird\n",
      "5          CM       Calamospiza      melanocorys                   Bird\n",
      "6          CQ        Callipepla         squamata                   Bird\n",
      "7          CS          Crotalus       scutalatus                Reptile\n",
      "8          CT     Cnemidophorus           tigris                Reptile\n",
      "9          CU     Cnemidophorus        uniparens                Reptile\n",
      "10         CV          Crotalus          viridis                Reptile\n",
      "11         DM         Dipodomys         merriami                 Rodent\n",
      "12         DO         Dipodomys            ordii                 Rodent\n",
      "13         DS         Dipodomys      spectabilis                 Rodent\n",
      "14         DX         Dipodomys              sp.                 Rodent\n",
      "15         EO           Eumeces        obsoletus                Reptile\n",
      "16         GS          Gambelia            silus                Reptile\n",
      "17        NaN           Neotoma         albigula                 Rodent\n",
      "18         NX           Neotoma              sp.                 Rodent\n",
      "19         OL         Onychomys      leucogaster                 Rodent\n",
      "20         OT         Onychomys         torridus                 Rodent\n",
      "21         OX         Onychomys              sp.                 Rodent\n",
      "22         PB       Chaetodipus          baileyi                 Rodent\n",
      "23         PC            Pipilo        chlorurus                   Bird\n",
      "24         PE        Peromyscus         eremicus                 Rodent\n",
      "25         PF       Perognathus           flavus                 Rodent\n",
      "26         PG         Pooecetes        gramineus                   Bird\n",
      "27         PH       Perognathus         hispidus                 Rodent\n",
      "28         PI       Chaetodipus      intermedius                 Rodent\n",
      "29         PL        Peromyscus         leucopus                 Rodent\n",
      "30         PM        Peromyscus      maniculatus                 Rodent\n",
      "31         PP       Chaetodipus     penicillatus                 Rodent\n",
      "32         PU            Pipilo           fuscus                   Bird\n",
      "33         PX       Chaetodipus              sp.                 Rodent\n",
      "34         RF   Reithrodontomys       fulvescens                 Rodent\n",
      "35         RM   Reithrodontomys        megalotis                 Rodent\n",
      "36         RO   Reithrodontomys         montanus                 Rodent\n",
      "37         RX   Reithrodontomys              sp.                 Rodent\n",
      "38         SA        Sylvilagus        audubonii                 Rabbit\n",
      "39         SB          Spizella          breweri                   Bird\n",
      "40         SC        Sceloporus           clarki                Reptile\n",
      "41         SF          Sigmodon      fulviventer                 Rodent\n",
      "42         SH          Sigmodon         hispidus                 Rodent\n",
      "43         SO          Sigmodon     ochrognathus                 Rodent\n",
      "44         SS      Spermophilus        spilosoma    Rodent-not censused\n",
      "45         ST      Spermophilus     tereticaudus    Rodent-not censused\n",
      "46         SU        Sceloporus        undulatus                Reptile\n",
      "47         SX          Sigmodon              sp.                 Rodent\n",
      "48         UL            Lizard              sp.                Reptile\n",
      "49         UP            Pipilo              sp.                   Bird\n",
      "50         UR            Rodent              sp.                 Rodent\n",
      "51         US           Sparrow              sp.                   Bird\n",
      "52         XX               NaN              NaN  Zero Trapping Success\n",
      "53         ZL       Zonotrichia       leucophrys                   Bird\n",
      "54         ZM           Zenaida         macroura                   Bird\n"
     ]
    }
   ],
   "source": [
    "df = pd.read_csv(\"species.csv\")\n",
    "print(df)"
   ]
  },
  {
   "cell_type": "code",
   "execution_count": 28,
   "id": "d7e59b0f-c4bc-4041-a822-b0183fef238f",
   "metadata": {},
   "outputs": [
    {
     "name": "stdout",
     "output_type": "stream",
     "text": [
      "Rodent                   28\n",
      "Bird                     13\n",
      "Reptile                   9\n",
      "Rodent-not censused       3\n",
      "Rabbit                    1\n",
      "Zero Trapping Success     1\n",
      "Name: taxa, dtype: int64\n"
     ]
    }
   ],
   "source": [
    "taxa = df['taxa'].value_counts()\n",
    "print(taxa)"
   ]
  },
  {
   "cell_type": "code",
   "execution_count": 29,
   "id": "79a94f9f-6ea8-4f3f-8615-21cdb9bd65c8",
   "metadata": {},
   "outputs": [
    {
     "name": "stdout",
     "output_type": "stream",
     "text": [
      "Reithrodontomys     4\n",
      "Dipodomys           4\n",
      "Chaetodipus         4\n",
      "Sigmodon            4\n",
      "Peromyscus          3\n",
      "Onychomys           3\n",
      "Pipilo              3\n",
      "Crotalus            2\n",
      "Cnemidophorus       2\n",
      "Neotoma             2\n",
      "Sceloporus          2\n",
      "Perognathus         2\n",
      "Spermophilus        2\n",
      "Lizard              1\n",
      "Sylvilagus          1\n",
      "Rodent              1\n",
      "Sparrow             1\n",
      "nan                 1\n",
      "Zonotrichia         1\n",
      "Spizella            1\n",
      "Amphispiza          1\n",
      "Pooecetes           1\n",
      "Ammospermophilus    1\n",
      "Gambelia            1\n",
      "Eumeces             1\n",
      "Callipepla          1\n",
      "Calamospiza         1\n",
      "Campylorhynchus     1\n",
      "Baiomys             1\n",
      "Ammodramus          1\n",
      "Zenaida             1\n",
      "Name: genus, dtype: int64\n"
     ]
    }
   ],
   "source": [
    "genus = df['genus'].value_counts()\n",
    "print(genus)"
   ]
  },
  {
   "cell_type": "code",
   "execution_count": 36,
   "id": "f6f5a7b4-b023-4cf8-b671-78d20d3dc2d6",
   "metadata": {},
   "outputs": [
    {
     "data": {
      "text/html": [
       "<div>\n",
       "<style scoped>\n",
       "    .dataframe tbody tr th:only-of-type {\n",
       "        vertical-align: middle;\n",
       "    }\n",
       "\n",
       "    .dataframe tbody tr th {\n",
       "        vertical-align: top;\n",
       "    }\n",
       "\n",
       "    .dataframe thead th {\n",
       "        text-align: right;\n",
       "    }\n",
       "</style>\n",
       "<table border=\"1\" class=\"dataframe\">\n",
       "  <thead>\n",
       "    <tr style=\"text-align: right;\">\n",
       "      <th></th>\n",
       "      <th>species_id</th>\n",
       "      <th>genus</th>\n",
       "      <th>species</th>\n",
       "      <th>taxa</th>\n",
       "    </tr>\n",
       "  </thead>\n",
       "  <tbody>\n",
       "    <tr>\n",
       "      <th>count</th>\n",
       "      <td>55</td>\n",
       "      <td>55</td>\n",
       "      <td>55</td>\n",
       "      <td>55</td>\n",
       "    </tr>\n",
       "    <tr>\n",
       "      <th>unique</th>\n",
       "      <td>55</td>\n",
       "      <td>31</td>\n",
       "      <td>45</td>\n",
       "      <td>6</td>\n",
       "    </tr>\n",
       "    <tr>\n",
       "      <th>top</th>\n",
       "      <td>AB</td>\n",
       "      <td>Reithrodontomys</td>\n",
       "      <td>sp.</td>\n",
       "      <td>Rodent</td>\n",
       "    </tr>\n",
       "    <tr>\n",
       "      <th>freq</th>\n",
       "      <td>1</td>\n",
       "      <td>4</td>\n",
       "      <td>10</td>\n",
       "      <td>28</td>\n",
       "    </tr>\n",
       "  </tbody>\n",
       "</table>\n",
       "</div>"
      ],
      "text/plain": [
       "       species_id            genus species    taxa\n",
       "count          55               55      55      55\n",
       "unique         55               31      45       6\n",
       "top            AB  Reithrodontomys     sp.  Rodent\n",
       "freq            1                4      10      28"
      ]
     },
     "execution_count": 36,
     "metadata": {},
     "output_type": "execute_result"
    }
   ],
   "source": [
    "df.describe()"
   ]
  },
  {
   "cell_type": "code",
   "execution_count": null,
   "id": "dd0ce2ef-3bd7-4634-81ad-150ccfbbe923",
   "metadata": {},
   "outputs": [],
   "source": []
  }
 ],
 "metadata": {
  "kernelspec": {
   "display_name": "Python 3 (ipykernel)",
   "language": "python",
   "name": "python3"
  },
  "language_info": {
   "codemirror_mode": {
    "name": "ipython",
    "version": 3
   },
   "file_extension": ".py",
   "mimetype": "text/x-python",
   "name": "python",
   "nbconvert_exporter": "python",
   "pygments_lexer": "ipython3",
   "version": "3.9.16"
  }
 },
 "nbformat": 4,
 "nbformat_minor": 5
}
